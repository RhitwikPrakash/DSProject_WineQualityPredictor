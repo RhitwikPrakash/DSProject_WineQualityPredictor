{
 "cells": [
  {
   "cell_type": "code",
   "execution_count": 1,
   "id": "037e2ac3",
   "metadata": {},
   "outputs": [
    {
     "data": {
      "text/plain": [
       "'d:\\\\END-TO-END PROJECTS\\\\DataScience_Project1\\\\DataScience_Project1'"
      ]
     },
     "execution_count": 1,
     "metadata": {},
     "output_type": "execute_result"
    }
   ],
   "source": [
    "import os\n",
    "%pwd"
   ]
  },
  {
   "cell_type": "code",
   "execution_count": null,
   "id": "960aff1f",
   "metadata": {},
   "outputs": [],
   "source": [
    "from dataclasses import dataclass\n",
    "from pathlib import Path\n",
    "\n",
    "@dataclass\n",
    "class ModelTrainerConfig:\n",
    "    root_dir: Path\n",
    "    train_data_path: Path\n",
    "    test_data_path: Path\n",
    "    model_name: str\n",
    "    # In the initial stages, \"params.yaml\" file had only - key:value. Replace it with ElasticNet:  alpha: 0.2, l1_ratio: 0.1\n",
    "    alpha: float   # Some parameters will be specified there, for ElasticNet ML Algorithm\n",
    "    l1_ratio: float   \n",
    "    target_column: str"
   ]
  }
 ],
 "metadata": {
  "kernelspec": {
   "display_name": "Python 3",
   "language": "python",
   "name": "python3"
  },
  "language_info": {
   "codemirror_mode": {
    "name": "ipython",
    "version": 3
   },
   "file_extension": ".py",
   "mimetype": "text/x-python",
   "name": "python",
   "nbconvert_exporter": "python",
   "pygments_lexer": "ipython3",
   "version": "3.10.0"
  }
 },
 "nbformat": 4,
 "nbformat_minor": 5
}
