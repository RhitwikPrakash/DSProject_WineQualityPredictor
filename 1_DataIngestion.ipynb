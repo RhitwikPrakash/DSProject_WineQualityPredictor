{
 "cells": [
  {
   "cell_type": "code",
   "execution_count": 1,
   "id": "5bf26796",
   "metadata": {},
   "outputs": [],
   "source": [
    "import sys, os\n",
    "sys.path.append(os.path.abspath(\"D:/END-TO-END PROJECTS/DataScience_Project1/DataScience_Project1\"))\n"
   ]
  },
  {
   "cell_type": "code",
   "execution_count": 2,
   "id": "3fec8285",
   "metadata": {},
   "outputs": [],
   "source": [
    "from src.Data_science_project.config.configuration import ConfigurationManager"
   ]
  },
  {
   "cell_type": "code",
   "execution_count": 3,
   "id": "eaa14ea3",
   "metadata": {},
   "outputs": [
    {
     "data": {
      "text/plain": [
       "'d:\\\\END-TO-END PROJECTS\\\\DataScience_Project1\\\\DataScience_Project1'"
      ]
     },
     "execution_count": 3,
     "metadata": {},
     "output_type": "execute_result"
    }
   ],
   "source": [
    "%pwd   # Current working directory"
   ]
  },
  {
   "cell_type": "code",
   "execution_count": 4,
   "id": "27d67173",
   "metadata": {},
   "outputs": [],
   "source": [
    "from dataclasses import dataclass\n",
    "from pathlib import Path\n",
    "\n",
    "@dataclass\n",
    "class DataIngestionConfig:\n",
    "    root_dir: Path\n",
    "    source_URL: str\n",
    "    local_data_file: Path\n",
    "    unzip_dir: Path"
   ]
  },
  {
   "cell_type": "code",
   "execution_count": 5,
   "id": "c117da2f",
   "metadata": {},
   "outputs": [],
   "source": [
    "from src.Data_science_project.constants import *\n",
    "from src.Data_science_project.utils.common import read_yaml, create_directories"
   ]
  },
  {
   "cell_type": "code",
   "execution_count": 6,
   "id": "d17ea5c6",
   "metadata": {},
   "outputs": [],
   "source": [
    "class ConfigurationManager:\n",
    "    def __init__(self, \n",
    "                 config_filepath= CONFIG_FILE_PATH,\n",
    "                 params_filepath= PARAMS_FILE_PATH,\n",
    "                 schema_filepath= SCHEMA_FILE_PATH):\n",
    "        self.config = read_yaml(config_filepath)\n",
    "        self.params = read_yaml(params_filepath)\n",
    "        self.schema = read_yaml(schema_filepath)\n",
    "        create_directories([self.config.artifacts_root])\n",
    "\n",
    "    def get_data_ingestion_config(self) -> DataIngestionConfig:\n",
    "        config = self.config.data_ingestion\n",
    "        create_directories([config.root_dir])\n",
    "\n",
    "        data_ingestion_config = DataIngestionConfig(\n",
    "            root_dir=config.root_dir,\n",
    "            source_URL=config.source_URL,\n",
    "            local_data_file=config.local_data_file,\n",
    "            unzip_dir=config.unzip_dir\n",
    "        )\n",
    "        return data_ingestion_config\n",
    "    "
   ]
  },
  {
   "cell_type": "code",
   "execution_count": 9,
   "id": "caa804b5",
   "metadata": {},
   "outputs": [],
   "source": [
    "import requests\n",
    "import os\n",
    "import urllib.request as request\n",
    "from src.Data_science_project.utils.common import logger\n",
    "import zipfile\n"
   ]
  },
  {
   "cell_type": "code",
   "execution_count": 11,
   "id": "6acc9d11",
   "metadata": {},
   "outputs": [],
   "source": [
    "## component-Data Ingestion\n",
    "class DataIngestion:\n",
    "    def __init__(self,config:DataIngestionConfig):\n",
    "        self.config=config\n",
    "    \n",
    "    # Downloading the zip file\n",
    "    def download_file(self):\n",
    "        if not os.path.exists(self.config.local_data_file):\n",
    "            filename, headers = request.urlretrieve(\n",
    "                url = self.config.source_URL,\n",
    "                filename = self.config.local_data_file\n",
    "            )\n",
    "            logger.info(f\"{filename} download! with following info: \\n{headers}\")\n",
    "        else:\n",
    "            logger.info(f\"File already exists\")\n",
    "\n",
    "    def extract_zip_file(self):\n",
    "        \"\"\"\n",
    "        zip_file_path: str\n",
    "        Extracts the zip file into the data directory\n",
    "        Function returns None\n",
    "        \"\"\"\n",
    "        unzip_path = self.config.unzip_dir\n",
    "        os.makedirs(unzip_path, exist_ok=True)\n",
    "        with zipfile.ZipFile(self.config.local_data_file, 'r') as zip_ref:\n",
    "            zip_ref.extractall(unzip_path)\n"
   ]
  },
  {
   "cell_type": "code",
   "execution_count": 12,
   "id": "9b0d20f6",
   "metadata": {},
   "outputs": [
    {
     "name": "stdout",
     "output_type": "stream",
     "text": [
      "[2025-07-13 03:48:55,407: INFO: common: yaml file: config\\config.yaml loaded successfully]\n",
      "[2025-07-13 03:48:55,410: INFO: common: yaml file: params.yaml loaded successfully]\n",
      "[2025-07-13 03:48:55,414: INFO: common: yaml file: schema.yaml loaded successfully]\n",
      "[2025-07-13 03:48:55,415: INFO: common: created directory at: artifacts]\n",
      "[2025-07-13 03:48:55,417: INFO: common: created directory at: artifacts/data_ingestion]\n",
      "[2025-07-13 03:48:55,418: INFO: 2281498944: File already exists]\n"
     ]
    }
   ],
   "source": [
    "try:\n",
    "    config = ConfigurationManager(\n",
    "        config_filepath=CONFIG_FILE_PATH,\n",
    "        params_filepath=PARAMS_FILE_PATH,\n",
    "        schema_filepath=SCHEMA_FILE_PATH\n",
    "    )\n",
    "    data_ingestion_config = config.get_data_ingestion_config()\n",
    "    data_ingestion = DataIngestion(config=data_ingestion_config)\n",
    "    data_ingestion.download_file()\n",
    "    data_ingestion.extract_zip_file()\n",
    "\n",
    "except Exception as e:\n",
    "    raise e\n"
   ]
  },
  {
   "cell_type": "code",
   "execution_count": null,
   "id": "547ef26e",
   "metadata": {},
   "outputs": [
    {
     "name": "stdout",
     "output_type": "stream",
     "text": [
      "src in path: False\n",
      "Module exists: True\n"
     ]
    }
   ],
   "source": [
    "# TESTING PURPOSE ONLY - NOT IN MAIN CODE\n",
    "import importlib\n",
    "import sys\n",
    "\n",
    "print(\"src in path:\", os.path.abspath(\"src\") in sys.path)\n",
    "print(\"Module exists:\", importlib.util.find_spec(\"src.Data_science_project.config.configuration\") is not None)\n"
   ]
  },
  {
   "cell_type": "code",
   "execution_count": null,
   "id": "ec7b4891",
   "metadata": {},
   "outputs": [
    {
     "name": "stdout",
     "output_type": "stream",
     "text": [
      "['__builtins__', '__cached__', '__doc__', '__file__', '__loader__', '__name__', '__package__', '__spec__']\n"
     ]
    }
   ],
   "source": [
    "import src.Data_science_project.config.configuration as config_mod\n",
    "print(dir(config_mod))  # This will list all names inside the module\n"
   ]
  },
  {
   "cell_type": "code",
   "execution_count": null,
   "id": "2e2586d7",
   "metadata": {},
   "outputs": [
    {
     "name": "stdout",
     "output_type": "stream",
     "text": [
      "Current Working Dir: d:\\END-TO-END PROJECTS\\DataScience_Project1\n",
      "src exists: False\n",
      "Full path to src: d:\\END-TO-END PROJECTS\\DataScience_Project1\\src\n"
     ]
    }
   ],
   "source": [
    "import os\n",
    "print(\"Current Working Dir:\", os.getcwd())\n",
    "print(\"src exists:\", os.path.exists(\"src\"))\n",
    "print(\"Full path to src:\", os.path.abspath(\"src\"))\n"
   ]
  },
  {
   "cell_type": "code",
   "execution_count": null,
   "id": "26ef8146",
   "metadata": {},
   "outputs": [
    {
     "name": "stdout",
     "output_type": "stream",
     "text": [
      "d:\\END-TO-END PROJECTS\\DataScience_Project1\n"
     ]
    }
   ],
   "source": [
    "import os\n",
    "print(os.getcwd())\n"
   ]
  },
  {
   "cell_type": "code",
   "execution_count": null,
   "id": "259049ef",
   "metadata": {},
   "outputs": [],
   "source": [
    "import os\n",
    "os.chdir(\"D:/END-TO-END PROJECTS/DataScience_Project1/DataScience_Project1\")\n"
   ]
  },
  {
   "cell_type": "code",
   "execution_count": null,
   "id": "a07c49ea",
   "metadata": {},
   "outputs": [
    {
     "name": "stdout",
     "output_type": "stream",
     "text": [
      "import os\n",
      "import yaml\n",
      "from Data_science_project import logger\n",
      "import json\n",
      "import joblib\n",
      "from ensure import ensure_annotations\n",
      "from box import ConfigBox\n",
      "from pathlib import Path\n",
      "from typing import Any\n",
      "from box.exceptions import BoxValueError\n",
      "\n",
      "\n",
      "@ensure_annotations\n",
      "def read_yaml(path_to_yaml: Path) -> ConfigBox:\n",
      "    \"\"\"reads yaml file and returns\n",
      "\n",
      "    Args:\n",
      "        path_to_yaml (str): path like input\n",
      "\n",
      "    Raises:\n",
      "        ValueError: if yaml file is empty\n",
      "        e: empty file\n",
      "\n",
      "    Returns:\n",
      "        ConfigBox: ConfigBox type\n",
      "    \"\"\"\n",
      "    try:\n",
      "        with open(path_to_yaml) as yaml_file:\n",
      "            content = yaml.safe_load(yaml_file)\n",
      "            logger.info(f\"yaml file: {path_to_yaml} loaded successfully\")\n",
      "            return ConfigBox(content)\n",
      "    except BoxValueError:\n",
      "        raise ValueError(\"yaml file is empty\")\n",
      "    except Exception as e:\n",
      "        raise e\n",
      "        \n",
      "\n",
      "\n",
      "@ensure_annotations\n",
      "def create_directories(path_to_directories: list, verbose=True):\n",
      "    \"\"\"create list of directories\n",
      "\n",
      "    Args:\n",
      "        path_to_directories (list): list of path of directories\n",
      "        ignore_log (bool, optional): ignore if multiple dirs is to be created. Defaults to False.\n",
      "    \"\"\"\n",
      "    for path in path_to_directories:\n",
      "        os.makedirs(path, exist_ok=True)\n",
      "        if verbose:\n",
      "            logger.info(f\"created directory at: {path}\")\n",
      "\n",
      "@ensure_annotations\n",
      "def save_json(path: Path, data: dict):\n",
      "    \"\"\"save json data\n",
      "\n",
      "    Args:\n",
      "        path (Path): path to json file\n",
      "        data (dict): data to be saved in json file\n",
      "    \"\"\"\n",
      "    with open(path, \"w\") as f:\n",
      "        json.dump(data, f, indent=4)\n",
      "\n",
      "    logger.info(f\"json file saved at: {path}\")\n",
      "\n",
      "@ensure_annotations\n",
      "def load_json(path: Path) -> ConfigBox:\n",
      "    \"\"\"load json files data\n",
      "\n",
      "    Args:\n",
      "        path (Path): path to json file\n",
      "\n",
      "    Returns:\n",
      "        ConfigBox: data as class attributes instead of dict\n",
      "    \"\"\"\n",
      "    with open(path) as f:\n",
      "        content = json.load(f)\n",
      "\n",
      "    logger.info(f\"json file loaded succesfully from: {path}\")\n",
      "    return ConfigBox(content)\n",
      "\n",
      "@ensure_annotations\n",
      "def save_bin(data: Any, path: Path):\n",
      "    \"\"\"save binary file\n",
      "\n",
      "    Args:\n",
      "        data (Any): data to be saved as binary\n",
      "        path (Path): path to binary file\n",
      "    \"\"\"\n",
      "    joblib.dump(value=data, filename=path)\n",
      "    logger.info(f\"binary file saved at: {path}\")\n",
      "\n",
      "@ensure_annotations\n",
      "def load_bin(path: Path) -> Any:\n",
      "    \"\"\"load binary data\n",
      "\n",
      "    Args:\n",
      "        path (Path): path to binary file\n",
      "\n",
      "    Returns:\n",
      "        Any: object stored in the file\n",
      "    \"\"\"\n",
      "    data = joblib.load(path)\n",
      "    logger.info(f\"binary file loaded from: {path}\")\n",
      "    return data\n",
      "\n"
     ]
    }
   ],
   "source": [
    "import inspect\n",
    "from src.Data_science_project.utils import common\n",
    "\n",
    "print(inspect.getsource(common))\n"
   ]
  },
  {
   "cell_type": "code",
   "execution_count": null,
   "id": "9acb939b",
   "metadata": {},
   "outputs": [
    {
     "name": "stdout",
     "output_type": "stream",
     "text": [
      "['__builtins__', '__cached__', '__doc__', '__file__', '__loader__', '__name__', '__package__', '__spec__']\n"
     ]
    }
   ],
   "source": [
    "print(dir(common))\n"
   ]
  },
  {
   "cell_type": "code",
   "execution_count": null,
   "id": "98aac6cf",
   "metadata": {},
   "outputs": [
    {
     "name": "stdout",
     "output_type": "stream",
     "text": [
      "Using this file: d:\\END-TO-END PROJECTS\\DataScience_Project1\\DataScience_Project1\\src\\Data_science_project\\utils\\common.py\n"
     ]
    }
   ],
   "source": [
    "import src.Data_science_project.utils.common as common\n",
    "print(\"Using this file:\", common.__file__)\n"
   ]
  },
  {
   "cell_type": "code",
   "execution_count": null,
   "id": "af0762df",
   "metadata": {},
   "outputs": [
    {
     "name": "stdout",
     "output_type": "stream",
     "text": [
      "📂 Module loaded from: d:\\END-TO-END PROJECTS\\DataScience_Project1\\DataScience_Project1\\src\\Data_science_project\\utils\\common.py\n",
      "🧪 All available symbols: ['Any', 'BoxValueError', 'ConfigBox', 'Path', '__builtins__', '__cached__', '__doc__', '__file__', '__loader__', '__name__', '__package__', '__spec__', 'create_directories', 'ensure_annotations', 'joblib', 'json', 'load_bin', 'load_json', 'logger', 'os', 'read_yaml_test', 'save_bin', 'save_json', 'yaml']\n"
     ]
    }
   ],
   "source": [
    "import sys, os\n",
    "sys.path.append(os.path.abspath(\"D:/END-TO-END PROJECTS/DataScience_Project1/DataScience_Project1\"))\n",
    "\n",
    "import src.Data_science_project.utils.common as common\n",
    "print(\"📂 Module loaded from:\", common.__file__)\n",
    "print(\"🧪 All available symbols:\", dir(common))\n"
   ]
  },
  {
   "cell_type": "code",
   "execution_count": null,
   "id": "486f7179",
   "metadata": {},
   "outputs": [
    {
     "name": "stdout",
     "output_type": "stream",
     "text": [
      "✅ Working now!\n"
     ]
    }
   ],
   "source": [
    "from src.Data_science_project.utils.common import read_yaml\n",
    "print(\"✅ Working now!\")\n"
   ]
  },
  {
   "cell_type": "code",
   "execution_count": 14,
   "id": "3380854e",
   "metadata": {},
   "outputs": [
    {
     "name": "stdout",
     "output_type": "stream",
     "text": [
      "[2025-07-13 03:49:23,804: INFO: 1771098451: ✅ Now logging will work!]\n"
     ]
    }
   ],
   "source": [
    "from src.Data_science_project.utils.common import logger\n",
    "logger.info(\"✅ Now logging will work!\")\n"
   ]
  },
  {
   "cell_type": "code",
   "execution_count": null,
   "id": "2fb960da",
   "metadata": {},
   "outputs": [],
   "source": []
  }
 ],
 "metadata": {
  "kernelspec": {
   "display_name": "Python 3",
   "language": "python",
   "name": "python3"
  },
  "language_info": {
   "codemirror_mode": {
    "name": "ipython",
    "version": 3
   },
   "file_extension": ".py",
   "mimetype": "text/x-python",
   "name": "python",
   "nbconvert_exporter": "python",
   "pygments_lexer": "ipython3",
   "version": "3.10.0"
  }
 },
 "nbformat": 4,
 "nbformat_minor": 5
}
